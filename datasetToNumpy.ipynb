{
 "cells": [
  {
   "cell_type": "code",
   "execution_count": 2,
   "metadata": {},
   "outputs": [],
   "source": [
    "import numpy as np\n",
    "\n",
    "# from utils.normalization import normalize\n",
    "# from utils.segmentation import create_segmented_and_variance_images\n",
    "# from utils.orientation import calculate_angles\n",
    "# from utils.frequency import ridge_freq\n",
    "# from utils.gabor_filter import gabor_filter\n",
    "# from utils.skeletonize import skeletonize\n",
    "\n",
    "import cv2\n",
    "import matplotlib.pyplot as plt\n",
    "\n",
    "import glob, os"
   ]
  },
  {
   "cell_type": "code",
   "execution_count": 3,
   "metadata": {},
   "outputs": [],
   "source": [
    "def extract_label(img_path):\n",
    "    filename, _ = os.path.splitext(os.path.basename(img_path))\n",
    "    \n",
    "    subject_id, etc = filename.split('__')\n",
    "    gender, lr, finger, _ = etc.split('_')\n",
    "    \n",
    "    gender = 0 if gender == 'M' else 1\n",
    "    lr = 0 if lr =='Left' else 1\n",
    "    \n",
    "    if finger == 'thumb':\n",
    "        finger = 0\n",
    "    elif finger == 'index':\n",
    "        finger = 1\n",
    "    elif finger == 'middle':\n",
    "        finger = 2\n",
    "    elif finger == 'ring':\n",
    "        finger = 3\n",
    "    elif finger == 'little':\n",
    "        finger = 4\n",
    "        \n",
    "    return np.array([subject_id, gender, lr, finger], dtype=np.uint16)\n",
    "\n",
    "def extract_label_altered(img_path):\n",
    "    filename, _ = os.path.splitext(os.path.basename(img_path))\n",
    "    \n",
    "    subject_id, etc = filename.split('__')\n",
    "    gender, lr, finger, _, _ = etc.split('_')\n",
    "    \n",
    "    gender = 0 if gender == 'M' else 1\n",
    "    lr = 0 if lr =='Left' else 1\n",
    "    \n",
    "    if finger == 'thumb':\n",
    "        finger = 0\n",
    "    elif finger == 'index':\n",
    "        finger = 1\n",
    "    elif finger == 'middle':\n",
    "        finger = 2\n",
    "    elif finger == 'ring':\n",
    "        finger = 3\n",
    "    elif finger == 'little':\n",
    "        finger = 4\n",
    "        \n",
    "    return np.array([subject_id, gender, lr, finger], dtype=np.uint16)"
   ]
  },
  {
   "cell_type": "code",
   "execution_count": 4,
   "metadata": {},
   "outputs": [],
   "source": [
    "# def fingerprint_pipeline(img):\n",
    "#     block_size = 16\n",
    "#     normalized_img = normalize(img.copy(), float(100), float(100))\n",
    "#     (segmented_img, normim, mask) = create_segmented_and_variance_images(normalized_img, block_size, 0.2)\n",
    "#     angles = calculate_angles(normalized_img, W=block_size, smoth=False)\n",
    "#     freq = ridge_freq(normim, mask, angles, block_size, kernel_size=5, minWaveLength=5, maxWaveLength=15)\n",
    "#     gabor_img = gabor_filter(normim, angles, freq)\n",
    "#     #thin_image = skeletonize(gabor_img)\n",
    "#     return gabor_img"
   ]
  },
  {
   "cell_type": "code",
   "execution_count": 5,
   "metadata": {},
   "outputs": [],
   "source": [
    "def numpy_data_gen_real(imgList, xFileName, yFileName):\n",
    "    print(len(imgList))\n",
    "    imgs = np.empty((len(imgList), 90, 90, 1), dtype=np.uint8)\n",
    "    labels = np.empty((len(imgList), 4), dtype=np.uint16)\n",
    "\n",
    "    for i, img_path in enumerate(imgList):\n",
    "        if i % 1000 == 0: print(i)\n",
    "        img = cv2.imread(img_path, cv2.IMREAD_GRAYSCALE)\n",
    "        img = cv2.resize(img, (90, 90))\n",
    "        img = np.expand_dims(img, axis=-1)\n",
    "        imgs[i] = img\n",
    "        labels[i] = extract_label(img_path)\n",
    "\n",
    "    np.savez(rf'D:\\amrita\\sem3\\introduction to AI and ML\\datasets\\dataset_fingerprint\\numpy_dataset\\{xFileName}.npz', imgs)\n",
    "    np.save(rf'D:\\amrita\\sem3\\introduction to AI and ML\\datasets\\dataset_fingerprint\\numpy_dataset\\{yFileName}.npy', labels)\n",
    "\n",
    "def numpy_data_gen_altered(imgList, xFileName, yFileName):\n",
    "    print(len(imgList))\n",
    "    imgs = np.empty((len(imgList), 90, 90, 1), dtype=np.uint8)\n",
    "    labels = np.empty((len(imgList), 4), dtype=np.uint16)\n",
    "\n",
    "    for i, img_path in enumerate(imgList):\n",
    "        if i % 1000 == 0: print(i)\n",
    "        img = cv2.imread(img_path, cv2.IMREAD_GRAYSCALE)\n",
    "        img = cv2.resize(img, (90, 90))\n",
    "        img = np.expand_dims(img, axis=-1)\n",
    "        imgs[i] = img\n",
    "        labels[i] = extract_label_altered(img_path)\n",
    "        \n",
    "\n",
    "    np.savez(rf'D:\\amrita\\sem3\\introduction to AI and ML\\datasets\\dataset_fingerprint\\numpy_dataset\\{xFileName}.npz', imgs)\n",
    "    np.save(rf'D:\\amrita\\sem3\\introduction to AI and ML\\datasets\\dataset_fingerprint\\numpy_dataset\\{yFileName}.npy', labels)\n",
    "\n",
    "    plt.figure(figsize=(1, 1))\n",
    "    plt.title(labels[-1])\n",
    "    plt.imshow(imgs[-1], cmap='gray')"
   ]
  },
  {
   "cell_type": "code",
   "execution_count": 6,
   "metadata": {},
   "outputs": [],
   "source": [
    "# np.savez(r'D:\\amrita\\sem3\\introduction to AI and ML\\datasets\\dataset_fingerprint\\numpy_dataset\\x_real.npz', imgs)\n",
    "# np.save(r'D:\\amrita\\sem3\\introduction to AI and ML\\datasets\\dataset_fingerprint\\numpy_dataset\\y_real.npy', labels)"
   ]
  },
  {
   "cell_type": "code",
   "execution_count": 7,
   "metadata": {},
   "outputs": [],
   "source": [
    "img_list_real = sorted(glob.glob(r'D:\\amrita\\sem3\\introduction to AI and ML\\datasets\\dataset_fingerprint\\SOCOFing\\Real\\*.BMP'))\n",
    "img_list_easy = sorted(glob.glob(r'D:\\amrita\\sem3\\introduction to AI and ML\\datasets\\dataset_fingerprint\\SOCOFing\\Altered\\Altered-Easy\\*.BMP'))\n",
    "img_list_medium = sorted(glob.glob(r'D:\\amrita\\sem3\\introduction to AI and ML\\datasets\\dataset_fingerprint\\SOCOFing\\Altered\\Altered-Medium\\*.BMP'))\n",
    "img_list_hard = sorted(glob.glob(r'D:\\amrita\\sem3\\introduction to AI and ML\\datasets\\dataset_fingerprint\\SOCOFing\\Altered\\Altered-Hard\\*.BMP'))"
   ]
  },
  {
   "cell_type": "code",
   "execution_count": 8,
   "metadata": {},
   "outputs": [
    {
     "data": {
      "text/plain": [
       "'D:\\\\amrita\\\\sem3\\\\introduction to AI and ML\\\\datasets\\\\dataset_fingerprint\\\\SOCOFing\\\\Altered\\\\Altered-Easy\\\\117__F_Right_little_finger_Obl.BMP'"
      ]
     },
     "execution_count": 8,
     "metadata": {},
     "output_type": "execute_result"
    }
   ],
   "source": [
    "img_list_easy[557]"
   ]
  },
  {
   "cell_type": "code",
   "execution_count": 9,
   "metadata": {},
   "outputs": [
    {
     "name": "stdout",
     "output_type": "stream",
     "text": [
      "6000\n",
      "0\n",
      "1000\n",
      "2000\n",
      "3000\n",
      "4000\n",
      "5000\n"
     ]
    }
   ],
   "source": [
    "numpy_data_gen_real(img_list_real, 'xReal', 'yReal')"
   ]
  },
  {
   "cell_type": "code",
   "execution_count": 15,
   "metadata": {},
   "outputs": [
    {
     "name": "stdout",
     "output_type": "stream",
     "text": [
      "17931\n",
      "0\n",
      "1000\n",
      "2000\n",
      "3000\n",
      "4000\n",
      "5000\n",
      "6000\n",
      "7000\n",
      "8000\n",
      "9000\n",
      "10000\n",
      "11000\n",
      "12000\n",
      "13000\n",
      "14000\n",
      "15000\n",
      "16000\n",
      "17000\n"
     ]
    },
    {
     "data": {
      "image/png": "[encoded data removed]",
      "text/plain": [
       "<Figure size 100x100 with 1 Axes>"
      ]
     },
     "metadata": {},
     "output_type": "display_data"
    }
   ],
   "source": [
    "numpy_data_gen_altered(img_list_easy, 'xEasy', 'yEasy')"
   ]
  },
  {
   "cell_type": "code",
   "execution_count": 16,
   "metadata": {},
   "outputs": [
    {
     "name": "stdout",
     "output_type": "stream",
     "text": [
      "17067\n",
      "0\n",
      "1000\n",
      "2000\n",
      "3000\n",
      "4000\n",
      "5000\n",
      "6000\n",
      "7000\n",
      "8000\n",
      "9000\n",
      "10000\n",
      "11000\n",
      "12000\n",
      "13000\n",
      "14000\n",
      "15000\n",
      "16000\n",
      "17000\n"
     ]
    },
    {
     "data": {
      "image/png": "[encoded data removed]",
      "text/plain": [
       "<Figure size 100x100 with 1 Axes>"
      ]
     },
     "metadata": {},
     "output_type": "display_data"
    }
   ],
   "source": [
    "numpy_data_gen_altered(img_list_medium, 'xMedium', 'yMedium')"
   ]
  },
  {
   "cell_type": "code",
   "execution_count": 12,
   "metadata": {},
   "outputs": [
    {
     "name": "stdout",
     "output_type": "stream",
     "text": [
      "14272\n",
      "0\n",
      "1000\n",
      "2000\n",
      "3000\n",
      "4000\n",
      "5000\n",
      "6000\n",
      "7000\n",
      "8000\n",
      "9000\n",
      "10000\n",
      "11000\n",
      "12000\n",
      "13000\n",
      "14000\n"
     ]
    },
    {
     "data": {
      "image/png": "[encoded data removed]",
      "text/plain": [
       "<Figure size 100x100 with 1 Axes>"
      ]
     },
     "metadata": {},
     "output_type": "display_data"
    }
   ],
   "source": [
    "numpy_data_gen_altered(img_list_hard, 'xHard', 'yHard')"
   ]
  },
  {
   "cell_type": "code",
   "execution_count": null,
   "metadata": {},
   "outputs": [],
   "source": [
    "from faker import Faker\n",
    "import pandas as pd\n",
    "\n",
    "fake = Faker()"
   ]
  },
  {
   "cell_type": "code",
   "execution_count": null,
   "metadata": {},
   "outputs": [],
   "source": [
    "def extract_label_data(img_path):\n",
    "    filename, _ = os.path.splitext(os.path.basename(img_path))\n",
    "    \n",
    "    subject_id, etc = filename.split('__')\n",
    "    gender, lr, finger, _ = etc.split('_')\n",
    "    \n",
    "    gender = 'Male' if gender == 'M' else 'Female'    \n",
    "        \n",
    "    return gender, lr, finger + \" finger\", subject_id"
   ]
  },
  {
   "cell_type": "code",
   "execution_count": null,
   "metadata": {},
   "outputs": [],
   "source": [
    "def generate_fake_data():\n",
    "    data = []\n",
    "    for imgpath in img_list_real:\n",
    "        gender, lr, finger, id = extract_label_data(imgpath)\n",
    "        record = {\n",
    "            'image path' : imgpath,\n",
    "            'id' : id,\n",
    "            'name' : fake.name(),\n",
    "            'gender' : gender,\n",
    "            'lr' : lr,\n",
    "            'finger' : finger,\n",
    "            'dob' : fake.date_of_birth(),\n",
    "            'country' : fake.country(),\n",
    "            'phone' : fake.phone_number(),\n",
    "            'address' : fake.address()\n",
    "        }\n",
    "        data.append(record)\n",
    "    return pd.DataFrame(data)\n",
    "        "
   ]
  },
  {
   "cell_type": "code",
   "execution_count": null,
   "metadata": {},
   "outputs": [
    {
     "name": "stdout",
     "output_type": "stream",
     "text": [
      "Saved fake data to D:\\amrita\\sem3\\introduction to AI and ML\\datasets\\fingerprint_fake_dataset.xlsx\n"
     ]
    }
   ],
   "source": [
    "df = generate_fake_data()\n",
    "output_filename = r'D:\\amrita\\sem3\\introduction to AI and ML\\datasets\\fingerprint_fake_dataset.xlsx'\n",
    "df.to_excel(output_filename, index=False)\n",
    "print(f'Saved fake data to {output_filename}')"
   ]
  }
 ],
 "metadata": {
  "kernelspec": {
   "display_name": "Python 3",
   "language": "python",
   "name": "python3"
  },
  "language_info": {
   "codemirror_mode": {
    "name": "ipython",
    "version": 3
   },
   "file_extension": ".py",
   "mimetype": "text/x-python",
   "name": "python",
   "nbconvert_exporter": "python",
   "pygments_lexer": "ipython3",
   "version": "3.12.0"
  }
 },
 "nbformat": 4,
 "nbformat_minor": 2
}
